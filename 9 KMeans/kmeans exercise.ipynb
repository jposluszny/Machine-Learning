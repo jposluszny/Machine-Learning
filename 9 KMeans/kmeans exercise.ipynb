{
 "cells": [
  {
   "cell_type": "markdown",
   "metadata": {},
   "source": [
    "# K-Means Clustering"
   ]
  },
  {
   "cell_type": "code",
   "execution_count": 1,
   "metadata": {},
   "outputs": [],
   "source": [
    "import pandas as pd\n",
    "import matplotlib.pyplot as plt\n",
    "import seaborn as sns\n",
    "from kneed import KneeLocator\n",
    "from sklearn.cluster import KMeans\n",
    "from sklearn.preprocessing import StandardScaler"
   ]
  },
  {
   "cell_type": "markdown",
   "metadata": {},
   "source": [
    "[Data Source](https://archive.ics.uci.edu/ml/datasets/Absenteeism+at+work)"
   ]
  },
  {
   "cell_type": "code",
   "execution_count": 2,
   "metadata": {},
   "outputs": [],
   "source": [
    "df = pd.read_csv(\"Absenteeism_at_work.csv\",delimiter=';')"
   ]
  },
  {
   "cell_type": "code",
   "execution_count": 3,
   "metadata": {},
   "outputs": [
    {
     "data": {
      "text/html": [
       "<div>\n",
       "<style scoped>\n",
       "    .dataframe tbody tr th:only-of-type {\n",
       "        vertical-align: middle;\n",
       "    }\n",
       "\n",
       "    .dataframe tbody tr th {\n",
       "        vertical-align: top;\n",
       "    }\n",
       "\n",
       "    .dataframe thead th {\n",
       "        text-align: right;\n",
       "    }\n",
       "</style>\n",
       "<table border=\"1\" class=\"dataframe\">\n",
       "  <thead>\n",
       "    <tr style=\"text-align: right;\">\n",
       "      <th></th>\n",
       "      <th>ID</th>\n",
       "      <th>Reason for absence</th>\n",
       "      <th>Month of absence</th>\n",
       "      <th>Day of the week</th>\n",
       "      <th>Seasons</th>\n",
       "      <th>Transportation expense</th>\n",
       "      <th>Distance from Residence to Work</th>\n",
       "      <th>Service time</th>\n",
       "      <th>Age</th>\n",
       "      <th>Work load Average/day</th>\n",
       "      <th>...</th>\n",
       "      <th>Disciplinary failure</th>\n",
       "      <th>Education</th>\n",
       "      <th>Son</th>\n",
       "      <th>Social drinker</th>\n",
       "      <th>Social smoker</th>\n",
       "      <th>Pet</th>\n",
       "      <th>Weight</th>\n",
       "      <th>Height</th>\n",
       "      <th>Body mass index</th>\n",
       "      <th>Absenteeism time in hours</th>\n",
       "    </tr>\n",
       "  </thead>\n",
       "  <tbody>\n",
       "    <tr>\n",
       "      <th>0</th>\n",
       "      <td>11</td>\n",
       "      <td>26</td>\n",
       "      <td>7</td>\n",
       "      <td>3</td>\n",
       "      <td>1</td>\n",
       "      <td>289</td>\n",
       "      <td>36</td>\n",
       "      <td>13</td>\n",
       "      <td>33</td>\n",
       "      <td>239.554</td>\n",
       "      <td>...</td>\n",
       "      <td>0</td>\n",
       "      <td>1</td>\n",
       "      <td>2</td>\n",
       "      <td>1</td>\n",
       "      <td>0</td>\n",
       "      <td>1</td>\n",
       "      <td>90</td>\n",
       "      <td>172</td>\n",
       "      <td>30</td>\n",
       "      <td>4</td>\n",
       "    </tr>\n",
       "    <tr>\n",
       "      <th>1</th>\n",
       "      <td>36</td>\n",
       "      <td>0</td>\n",
       "      <td>7</td>\n",
       "      <td>3</td>\n",
       "      <td>1</td>\n",
       "      <td>118</td>\n",
       "      <td>13</td>\n",
       "      <td>18</td>\n",
       "      <td>50</td>\n",
       "      <td>239.554</td>\n",
       "      <td>...</td>\n",
       "      <td>1</td>\n",
       "      <td>1</td>\n",
       "      <td>1</td>\n",
       "      <td>1</td>\n",
       "      <td>0</td>\n",
       "      <td>0</td>\n",
       "      <td>98</td>\n",
       "      <td>178</td>\n",
       "      <td>31</td>\n",
       "      <td>0</td>\n",
       "    </tr>\n",
       "    <tr>\n",
       "      <th>2</th>\n",
       "      <td>3</td>\n",
       "      <td>23</td>\n",
       "      <td>7</td>\n",
       "      <td>4</td>\n",
       "      <td>1</td>\n",
       "      <td>179</td>\n",
       "      <td>51</td>\n",
       "      <td>18</td>\n",
       "      <td>38</td>\n",
       "      <td>239.554</td>\n",
       "      <td>...</td>\n",
       "      <td>0</td>\n",
       "      <td>1</td>\n",
       "      <td>0</td>\n",
       "      <td>1</td>\n",
       "      <td>0</td>\n",
       "      <td>0</td>\n",
       "      <td>89</td>\n",
       "      <td>170</td>\n",
       "      <td>31</td>\n",
       "      <td>2</td>\n",
       "    </tr>\n",
       "    <tr>\n",
       "      <th>3</th>\n",
       "      <td>7</td>\n",
       "      <td>7</td>\n",
       "      <td>7</td>\n",
       "      <td>5</td>\n",
       "      <td>1</td>\n",
       "      <td>279</td>\n",
       "      <td>5</td>\n",
       "      <td>14</td>\n",
       "      <td>39</td>\n",
       "      <td>239.554</td>\n",
       "      <td>...</td>\n",
       "      <td>0</td>\n",
       "      <td>1</td>\n",
       "      <td>2</td>\n",
       "      <td>1</td>\n",
       "      <td>1</td>\n",
       "      <td>0</td>\n",
       "      <td>68</td>\n",
       "      <td>168</td>\n",
       "      <td>24</td>\n",
       "      <td>4</td>\n",
       "    </tr>\n",
       "    <tr>\n",
       "      <th>4</th>\n",
       "      <td>11</td>\n",
       "      <td>23</td>\n",
       "      <td>7</td>\n",
       "      <td>5</td>\n",
       "      <td>1</td>\n",
       "      <td>289</td>\n",
       "      <td>36</td>\n",
       "      <td>13</td>\n",
       "      <td>33</td>\n",
       "      <td>239.554</td>\n",
       "      <td>...</td>\n",
       "      <td>0</td>\n",
       "      <td>1</td>\n",
       "      <td>2</td>\n",
       "      <td>1</td>\n",
       "      <td>0</td>\n",
       "      <td>1</td>\n",
       "      <td>90</td>\n",
       "      <td>172</td>\n",
       "      <td>30</td>\n",
       "      <td>2</td>\n",
       "    </tr>\n",
       "  </tbody>\n",
       "</table>\n",
       "<p>5 rows × 21 columns</p>\n",
       "</div>"
      ],
      "text/plain": [
       "   ID  Reason for absence  Month of absence  Day of the week  Seasons  \\\n",
       "0  11                  26                 7                3        1   \n",
       "1  36                   0                 7                3        1   \n",
       "2   3                  23                 7                4        1   \n",
       "3   7                   7                 7                5        1   \n",
       "4  11                  23                 7                5        1   \n",
       "\n",
       "   Transportation expense  Distance from Residence to Work  Service time  Age  \\\n",
       "0                     289                               36            13   33   \n",
       "1                     118                               13            18   50   \n",
       "2                     179                               51            18   38   \n",
       "3                     279                                5            14   39   \n",
       "4                     289                               36            13   33   \n",
       "\n",
       "   Work load Average/day   ...  Disciplinary failure  Education  Son  \\\n",
       "0                 239.554  ...                     0          1    2   \n",
       "1                 239.554  ...                     1          1    1   \n",
       "2                 239.554  ...                     0          1    0   \n",
       "3                 239.554  ...                     0          1    2   \n",
       "4                 239.554  ...                     0          1    2   \n",
       "\n",
       "   Social drinker  Social smoker  Pet  Weight  Height  Body mass index  \\\n",
       "0               1              0    1      90     172               30   \n",
       "1               1              0    0      98     178               31   \n",
       "2               1              0    0      89     170               31   \n",
       "3               1              1    0      68     168               24   \n",
       "4               1              0    1      90     172               30   \n",
       "\n",
       "   Absenteeism time in hours  \n",
       "0                          4  \n",
       "1                          0  \n",
       "2                          2  \n",
       "3                          4  \n",
       "4                          2  \n",
       "\n",
       "[5 rows x 21 columns]"
      ]
     },
     "execution_count": 3,
     "metadata": {},
     "output_type": "execute_result"
    }
   ],
   "source": [
    "df.head()"
   ]
  },
  {
   "cell_type": "code",
   "execution_count": null,
   "metadata": {},
   "outputs": [],
   "source": []
  },
  {
   "cell_type": "code",
   "execution_count": 4,
   "metadata": {},
   "outputs": [
    {
     "name": "stdout",
     "output_type": "stream",
     "text": [
      "<class 'pandas.core.frame.DataFrame'>\n",
      "RangeIndex: 740 entries, 0 to 739\n",
      "Data columns (total 21 columns):\n",
      "ID                                 740 non-null int64\n",
      "Reason for absence                 740 non-null int64\n",
      "Month of absence                   740 non-null int64\n",
      "Day of the week                    740 non-null int64\n",
      "Seasons                            740 non-null int64\n",
      "Transportation expense             740 non-null int64\n",
      "Distance from Residence to Work    740 non-null int64\n",
      "Service time                       740 non-null int64\n",
      "Age                                740 non-null int64\n",
      "Work load Average/day              740 non-null float64\n",
      "Hit target                         740 non-null int64\n",
      "Disciplinary failure               740 non-null int64\n",
      "Education                          740 non-null int64\n",
      "Son                                740 non-null int64\n",
      "Social drinker                     740 non-null int64\n",
      "Social smoker                      740 non-null int64\n",
      "Pet                                740 non-null int64\n",
      "Weight                             740 non-null int64\n",
      "Height                             740 non-null int64\n",
      "Body mass index                    740 non-null int64\n",
      "Absenteeism time in hours          740 non-null int64\n",
      "dtypes: float64(1), int64(20)\n",
      "memory usage: 121.5 KB\n"
     ]
    }
   ],
   "source": [
    "df.info()"
   ]
  },
  {
   "cell_type": "code",
   "execution_count": 5,
   "metadata": {},
   "outputs": [],
   "source": [
    "df.drop('ID',axis=1,inplace=True)"
   ]
  },
  {
   "cell_type": "code",
   "execution_count": 6,
   "metadata": {},
   "outputs": [
    {
     "name": "stdout",
     "output_type": "stream",
     "text": [
      "<class 'pandas.core.frame.DataFrame'>\n",
      "RangeIndex: 740 entries, 0 to 739\n",
      "Data columns (total 20 columns):\n",
      "Reason for absence                 740 non-null int64\n",
      "Month of absence                   740 non-null int64\n",
      "Day of the week                    740 non-null int64\n",
      "Seasons                            740 non-null int64\n",
      "Transportation expense             740 non-null int64\n",
      "Distance from Residence to Work    740 non-null int64\n",
      "Service time                       740 non-null int64\n",
      "Age                                740 non-null int64\n",
      "Work load Average/day              740 non-null float64\n",
      "Hit target                         740 non-null int64\n",
      "Disciplinary failure               740 non-null int64\n",
      "Education                          740 non-null int64\n",
      "Son                                740 non-null int64\n",
      "Social drinker                     740 non-null int64\n",
      "Social smoker                      740 non-null int64\n",
      "Pet                                740 non-null int64\n",
      "Weight                             740 non-null int64\n",
      "Height                             740 non-null int64\n",
      "Body mass index                    740 non-null int64\n",
      "Absenteeism time in hours          740 non-null int64\n",
      "dtypes: float64(1), int64(19)\n",
      "memory usage: 115.8 KB\n"
     ]
    }
   ],
   "source": [
    "df.info()"
   ]
  },
  {
   "cell_type": "markdown",
   "metadata": {},
   "source": [
    "# Principal Component Analysis"
   ]
  },
  {
   "cell_type": "markdown",
   "metadata": {},
   "source": [
    "Running dimensionality reduction algorithm such as Principal component analysis (PCA) prior to K-Means reduces the effects of the curse of dimensionality. PCA reduces the number of features. This can be done by either removing or combining features.\n",
    "\n",
    "The new features are referred to as **components**. "
   ]
  },
  {
   "cell_type": "code",
   "execution_count": 7,
   "metadata": {},
   "outputs": [],
   "source": [
    "# Import PCA\n"
   ]
  },
  {
   "cell_type": "code",
   "execution_count": 8,
   "metadata": {},
   "outputs": [],
   "source": [
    "# Create an instance of PCA\n"
   ]
  },
  {
   "cell_type": "code",
   "execution_count": 9,
   "metadata": {},
   "outputs": [],
   "source": [
    "# Create a variable called X containing the df transformed using PCA\n"
   ]
  },
  {
   "cell_type": "code",
   "execution_count": 10,
   "metadata": {},
   "outputs": [
    {
     "data": {
      "text/plain": [
       "array([[ 6.71354234e+01, -3.27484750e+01, -2.96182849e+00, ...,\n",
       "        -1.00465019e+00, -2.41507703e+00, -2.72227113e-01],\n",
       "       [-1.05230741e+02, -3.08716703e+01,  1.29138398e+01, ...,\n",
       "         5.41744814e+00, -8.23703492e-01,  2.03145784e+00],\n",
       "       [-4.16997283e+01, -3.28566715e+01, -2.20178950e+01, ...,\n",
       "         8.25552754e-01, -1.14615531e+00,  3.69181792e-01],\n",
       "       ...,\n",
       "       [-1.04550527e+02,  7.36578248e-01,  8.97532274e+00, ...,\n",
       "        -6.10674211e+00, -8.46977946e+00, -1.82135753e+00],\n",
       "       [ 9.17524078e+00, -3.44052966e-01, -2.93343173e+00, ...,\n",
       "        -2.49802996e+00, -7.77809158e+00, -3.26474530e+00],\n",
       "       [-4.13992759e+01, -6.32381104e-02, -1.35410165e+01, ...,\n",
       "         1.34832128e+01, -3.50680556e-01,  1.16352468e+00]])"
      ]
     },
     "execution_count": 10,
     "metadata": {},
     "output_type": "execute_result"
    }
   ],
   "source": [
    "# Display X\n"
   ]
  },
  {
   "cell_type": "markdown",
   "metadata": {},
   "source": [
    "# Scaling"
   ]
  },
  {
   "cell_type": "code",
   "execution_count": 11,
   "metadata": {},
   "outputs": [],
   "source": [
    "# Create an instance of the standard scaler and fit it to X\n"
   ]
  },
  {
   "cell_type": "markdown",
   "metadata": {},
   "source": [
    "# [Implement K-Means Clustering](https://scikit-learn.org/stable/modules/generated/sklearn.cluster.KMeans.html#sklearn.cluster.KMeans)"
   ]
  },
  {
   "cell_type": "code",
   "execution_count": 12,
   "metadata": {},
   "outputs": [],
   "source": [
    "# Create an intance of KMeans\n"
   ]
  },
  {
   "cell_type": "code",
   "execution_count": 13,
   "metadata": {},
   "outputs": [
    {
     "data": {
      "text/plain": [
       "{'algorithm': 'auto',\n",
       " 'copy_x': True,\n",
       " 'init': 'k-means++',\n",
       " 'max_iter': 300,\n",
       " 'n_clusters': 4,\n",
       " 'n_init': 10,\n",
       " 'n_jobs': 'deprecated',\n",
       " 'precompute_distances': 'deprecated',\n",
       " 'random_state': 42,\n",
       " 'tol': 0.0001,\n",
       " 'verbose': 0}"
      ]
     },
     "execution_count": 13,
     "metadata": {},
     "output_type": "execute_result"
    }
   ],
   "source": [
    "# Check the parameters of Kmeans\n"
   ]
  },
  {
   "cell_type": "markdown",
   "metadata": {},
   "source": [
    "k-means++ initializes the centroids to be  distant from each other, leading to better results than random initialization"
   ]
  },
  {
   "cell_type": "code",
   "execution_count": 14,
   "metadata": {},
   "outputs": [
    {
     "data": {
      "text/plain": [
       "KMeans(n_clusters=4, random_state=42)"
      ]
     },
     "execution_count": 14,
     "metadata": {},
     "output_type": "execute_result"
    }
   ],
   "source": [
    "#Fit kmeans to X \n"
   ]
  },
  {
   "cell_type": "markdown",
   "metadata": {},
   "source": [
    "Inertia measures how internally coherent clusters are"
   ]
  },
  {
   "cell_type": "code",
   "execution_count": 15,
   "metadata": {},
   "outputs": [
    {
     "data": {
      "text/plain": [
       "5714.17488172685"
      ]
     },
     "execution_count": 15,
     "metadata": {},
     "output_type": "execute_result"
    }
   ],
   "source": [
    "# Check the inertia\n"
   ]
  },
  {
   "cell_type": "code",
   "execution_count": 16,
   "metadata": {},
   "outputs": [
    {
     "data": {
      "text/plain": [
       "array([[-1.21549163e+00,  2.31273636e-01,  9.43157215e-01,\n",
       "         8.08876650e-01, -3.35585979e-01, -1.28761604e-01,\n",
       "        -8.30198520e-01,  1.37123372e+00,  6.62849820e-01,\n",
       "         1.05054324e-01],\n",
       "       [ 9.54016685e-01, -2.06261285e-02,  4.04011199e-01,\n",
       "         3.44849003e-01, -2.70304712e-01,  1.51669647e-02,\n",
       "         3.48188871e-01, -2.46379665e-02,  3.54115031e-03,\n",
       "        -5.60784421e-04],\n",
       "       [-5.73064404e-01,  9.95539607e-02,  1.84376544e-01,\n",
       "        -1.01851980e+00,  9.21814373e-03, -7.56815334e-02,\n",
       "        -1.53923784e-01, -5.88898596e-01, -2.56715427e-01,\n",
       "        -2.09354566e-02],\n",
       "       [-2.44920367e-01, -2.06176652e-01, -1.34746604e+00,\n",
       "         4.34850501e-01,  5.87368442e-01,  1.36040946e-01,\n",
       "         1.30738829e-02,  2.07532082e-01,  3.70927359e-02,\n",
       "        -1.89212738e-02]])"
      ]
     },
     "execution_count": 16,
     "metadata": {},
     "output_type": "execute_result"
    }
   ],
   "source": [
    "# check the centroids\n"
   ]
  },
  {
   "cell_type": "code",
   "execution_count": 17,
   "metadata": {},
   "outputs": [
    {
     "data": {
      "text/plain": [
       "29"
      ]
     },
     "execution_count": 17,
     "metadata": {},
     "output_type": "execute_result"
    }
   ],
   "source": [
    "# check the number of iterations\n"
   ]
  },
  {
   "cell_type": "code",
   "execution_count": 18,
   "metadata": {},
   "outputs": [
    {
     "data": {
      "text/plain": [
       "array([1, 0, 3, 1, 1, 3, 1, 3, 0, 1, 3, 3, 3, 3, 3, 1, 3, 3, 2, 1, 1, 3,\n",
       "       1, 3, 1, 1, 1, 0, 1, 3, 3, 1, 1, 1, 3, 1, 1, 3, 1, 3, 2, 2, 3, 1,\n",
       "       0, 2, 3, 1, 3, 1, 3, 2, 2, 2, 1, 0, 2, 3, 1, 1, 3, 3, 3, 2, 0, 2,\n",
       "       3, 2, 2, 2, 1, 1, 3, 2, 3, 1, 2, 1, 1, 3, 3, 2, 3, 2, 1, 0, 2, 1,\n",
       "       2, 0, 2, 2, 2, 3, 1, 2, 1, 1, 1, 2, 0, 1, 2, 3, 2, 1, 2, 3, 2, 1,\n",
       "       2, 1, 2, 2, 2, 2, 0, 2, 2, 2, 2, 2, 2, 2, 2, 2, 2, 2, 2, 2, 1, 2,\n",
       "       2, 2, 2, 2, 1, 2, 1, 3, 0, 2, 3, 1, 1, 1, 2, 2, 2, 2, 2, 1, 1, 2,\n",
       "       2, 3, 3, 0, 2, 1, 3, 2, 1, 3, 2, 0, 3, 0, 1, 2, 3, 2, 1, 3, 2, 2,\n",
       "       2, 2, 2, 3, 1, 2, 1, 2, 1, 2, 0, 1, 0, 2, 3, 3, 0, 1, 1, 1, 1, 3,\n",
       "       1, 0, 1, 1, 1, 1, 1, 0, 0, 3, 2, 2, 0, 3, 1, 1, 1, 1, 1, 3, 0, 1,\n",
       "       1, 1, 1, 1, 1, 3, 0, 1, 0, 1, 0, 0, 1, 3, 1, 2, 0, 0, 2, 2, 1, 2,\n",
       "       0, 1, 1, 0, 1, 1, 3, 1, 1, 3, 1, 0, 1, 1, 1, 1, 3, 1, 1, 1, 2, 0,\n",
       "       1, 1, 0, 1, 1, 2, 3, 3, 1, 1, 1, 1, 1, 3, 3, 1, 3, 1, 3, 1, 0, 1,\n",
       "       1, 1, 3, 1, 1, 1, 1, 0, 1, 2, 2, 1, 3, 2, 1, 1, 3, 1, 1, 1, 0, 1,\n",
       "       2, 0, 1, 3, 1, 0, 2, 2, 0, 2, 1, 3, 3, 1, 1, 0, 1, 1, 1, 2, 1, 3,\n",
       "       1, 1, 1, 3, 3, 3, 1, 1, 3, 2, 3, 3, 1, 0, 3, 1, 3, 3, 2, 2, 1, 3,\n",
       "       1, 1, 3, 0, 3, 1, 2, 2, 0, 1, 0, 1, 1, 1, 0, 3, 3, 2, 3, 2, 1, 3,\n",
       "       3, 3, 3, 3, 1, 3, 2, 3, 1, 1, 0, 3, 3, 1, 3, 3, 2, 1, 1, 3, 3, 1,\n",
       "       2, 1, 3, 1, 1, 1, 0, 0, 0, 1, 1, 0, 3, 1, 3, 1, 3, 3, 1, 1, 1, 1,\n",
       "       3, 0, 0, 1, 3, 3, 2, 1, 1, 1, 2, 3, 1, 3, 2, 2, 1, 2, 1, 2, 2, 1,\n",
       "       2, 2, 3, 2, 2, 3, 3, 1, 3, 1, 3, 1, 3, 2, 0, 3, 2, 1, 1, 1, 2, 2,\n",
       "       3, 1, 1, 2, 3, 2, 1, 1, 1, 2, 3, 0, 1, 1, 1, 1, 1, 1, 3, 2, 1, 2,\n",
       "       1, 1, 1, 3, 2, 1, 1, 1, 2, 1, 3, 1, 1, 2, 0, 1, 2, 1, 3, 2, 2, 1,\n",
       "       1, 1, 2, 1, 1, 1, 2, 1, 1, 2, 1, 1, 2, 1, 3, 1, 1, 1, 2, 1, 2, 2,\n",
       "       2, 1, 2, 2, 3, 2, 1, 3, 2, 1, 2, 2, 1, 1, 2, 2, 3, 2, 2, 2, 1, 1,\n",
       "       1, 1, 2, 1, 1, 3, 1, 2, 2, 2, 2, 1, 2, 1, 3, 2, 2, 2, 2, 0, 2, 2,\n",
       "       2, 2, 2, 2, 1, 2, 2, 0, 2, 3, 1, 3, 3, 3, 2, 1, 3, 2, 3, 2, 0, 3,\n",
       "       3, 3, 2, 3, 3, 2, 2, 2, 3, 3, 2, 3, 3, 3, 0, 2, 3, 2, 3, 1, 2, 3,\n",
       "       3, 2, 3, 1, 1, 1, 1, 3, 2, 3, 2, 2, 2, 1, 3, 3, 3, 2, 3, 1, 3, 2,\n",
       "       3, 1, 1, 3, 1, 3, 2, 3, 3, 0, 0, 3, 3, 2, 1, 1, 2, 2, 1, 1, 2, 2,\n",
       "       1, 2, 0, 1, 2, 1, 2, 2, 2, 2, 0, 2, 0, 2, 1, 0, 2, 2, 1, 2, 1, 0,\n",
       "       1, 0, 2, 0, 0, 2, 0, 2, 1, 2, 0, 2, 1, 2, 2, 1, 2, 1, 2, 1, 0, 2,\n",
       "       0, 2, 0, 2, 2, 2, 1, 0, 3, 2, 1, 1, 0, 2, 1, 2, 2, 3, 2, 2, 3, 1,\n",
       "       3, 1, 2, 1, 2, 2, 1, 2, 1, 1, 1, 2, 1, 3], dtype=int32)"
      ]
     },
     "execution_count": 18,
     "metadata": {},
     "output_type": "execute_result"
    }
   ],
   "source": [
    "# Check the labels\n"
   ]
  },
  {
   "cell_type": "markdown",
   "metadata": {},
   "source": [
    "# Finding the best number of clusters"
   ]
  },
  {
   "cell_type": "code",
   "execution_count": 19,
   "metadata": {},
   "outputs": [],
   "source": [
    "# Check the optimal number of clusters in a for loop\n"
   ]
  },
  {
   "cell_type": "code",
   "execution_count": 20,
   "metadata": {},
   "outputs": [
    {
     "data": {
      "text/html": [
       "<div>\n",
       "<style scoped>\n",
       "    .dataframe tbody tr th:only-of-type {\n",
       "        vertical-align: middle;\n",
       "    }\n",
       "\n",
       "    .dataframe tbody tr th {\n",
       "        vertical-align: top;\n",
       "    }\n",
       "\n",
       "    .dataframe thead th {\n",
       "        text-align: right;\n",
       "    }\n",
       "</style>\n",
       "<table border=\"1\" class=\"dataframe\">\n",
       "  <thead>\n",
       "    <tr style=\"text-align: right;\">\n",
       "      <th></th>\n",
       "      <th>Cluster</th>\n",
       "      <th>sse</th>\n",
       "    </tr>\n",
       "  </thead>\n",
       "  <tbody>\n",
       "    <tr>\n",
       "      <th>0</th>\n",
       "      <td>1</td>\n",
       "      <td>7400.000000</td>\n",
       "    </tr>\n",
       "    <tr>\n",
       "      <th>1</th>\n",
       "      <td>2</td>\n",
       "      <td>6770.274601</td>\n",
       "    </tr>\n",
       "    <tr>\n",
       "      <th>2</th>\n",
       "      <td>3</td>\n",
       "      <td>6215.610773</td>\n",
       "    </tr>\n",
       "    <tr>\n",
       "      <th>3</th>\n",
       "      <td>4</td>\n",
       "      <td>5695.791675</td>\n",
       "    </tr>\n",
       "    <tr>\n",
       "      <th>4</th>\n",
       "      <td>5</td>\n",
       "      <td>5257.517910</td>\n",
       "    </tr>\n",
       "  </tbody>\n",
       "</table>\n",
       "</div>"
      ],
      "text/plain": [
       "   Cluster          sse\n",
       "0        1  7400.000000\n",
       "1        2  6770.274601\n",
       "2        3  6215.610773\n",
       "3        4  5695.791675\n",
       "4        5  5257.517910"
      ]
     },
     "execution_count": 20,
     "metadata": {},
     "output_type": "execute_result"
    }
   ],
   "source": [
    "# Store the errors in a dataframe\n"
   ]
  },
  {
   "cell_type": "code",
   "execution_count": 21,
   "metadata": {},
   "outputs": [
    {
     "data": {
      "text/plain": [
       "Text(0, 0.5, 'Inertia')"
      ]
     },
     "execution_count": 21,
     "metadata": {},
     "output_type": "execute_result"
    },
    {
     "data": {
      "image/png": "[encoded data removed]",
      "text/plain": [
       "<Figure size 864x432 with 1 Axes>"
      ]
     },
     "metadata": {
      "needs_background": "light"
     },
     "output_type": "display_data"
    }
   ],
   "source": [
    "# Plot the errors\n"
   ]
  },
  {
   "cell_type": "code",
   "execution_count": 22,
   "metadata": {},
   "outputs": [],
   "source": [
    "# Use the kneeLocator to get the optimal number of clusters\n"
   ]
  },
  {
   "cell_type": "code",
   "execution_count": 23,
   "metadata": {},
   "outputs": [
    {
     "data": {
      "text/plain": [
       "7"
      ]
     },
     "execution_count": 23,
     "metadata": {},
     "output_type": "execute_result"
    }
   ],
   "source": [
    "# check the optimal number of clusters\n"
   ]
  },
  {
   "cell_type": "code",
   "execution_count": 24,
   "metadata": {},
   "outputs": [],
   "source": []
  },
  {
   "cell_type": "code",
   "execution_count": 25,
   "metadata": {},
   "outputs": [
    {
     "data": {
      "text/plain": [
       "array([4, 6, 3, 1, 4, 3, 4, 1, 6, 4, 1, 1, 1, 3, 3, 1, 3, 3, 0, 1, 4, 3,\n",
       "       4, 1, 4, 4, 4, 0, 4, 3, 3, 1, 4, 1, 3, 4, 4, 1, 1, 1, 0, 0, 3, 4,\n",
       "       6, 0, 3, 1, 1, 1, 1, 0, 0, 0, 4, 6, 0, 3, 4, 1, 3, 1, 3, 0, 6, 0,\n",
       "       3, 0, 0, 0, 1, 1, 3, 0, 1, 1, 0, 4, 4, 1, 3, 0, 3, 1, 1, 6, 0, 1,\n",
       "       0, 6, 0, 1, 0, 1, 1, 0, 4, 1, 1, 5, 6, 4, 0, 1, 5, 4, 0, 1, 0, 4,\n",
       "       0, 1, 0, 2, 2, 2, 6, 2, 2, 2, 2, 2, 2, 2, 2, 2, 2, 2, 2, 2, 4, 2,\n",
       "       2, 2, 2, 2, 4, 2, 2, 3, 6, 2, 2, 4, 1, 1, 2, 2, 2, 2, 2, 4, 4, 2,\n",
       "       2, 2, 2, 6, 2, 2, 2, 2, 2, 2, 2, 6, 2, 6, 2, 2, 2, 2, 2, 2, 2, 2,\n",
       "       2, 2, 2, 2, 2, 2, 2, 2, 2, 2, 6, 2, 6, 2, 2, 3, 6, 2, 2, 2, 2, 5,\n",
       "       2, 6, 1, 2, 2, 2, 2, 6, 6, 2, 2, 2, 6, 2, 2, 2, 4, 2, 1, 2, 2, 2,\n",
       "       2, 2, 2, 2, 2, 2, 6, 2, 6, 2, 6, 5, 2, 2, 2, 2, 6, 6, 0, 0, 4, 0,\n",
       "       6, 4, 4, 0, 4, 4, 3, 4, 4, 1, 4, 0, 4, 1, 1, 1, 1, 4, 1, 4, 0, 6,\n",
       "       1, 4, 6, 4, 4, 0, 3, 3, 4, 4, 1, 1, 4, 1, 3, 1, 3, 1, 1, 4, 6, 4,\n",
       "       1, 1, 3, 4, 4, 4, 4, 6, 1, 0, 0, 4, 3, 5, 4, 4, 1, 4, 4, 4, 6, 1,\n",
       "       0, 6, 4, 1, 1, 0, 0, 0, 6, 0, 1, 3, 1, 1, 1, 5, 4, 4, 4, 0, 4, 3,\n",
       "       1, 1, 1, 3, 1, 1, 1, 1, 3, 0, 3, 3, 4, 6, 1, 1, 3, 3, 0, 0, 4, 3,\n",
       "       4, 4, 1, 0, 3, 4, 2, 2, 6, 2, 6, 2, 2, 2, 6, 2, 2, 0, 3, 0, 4, 1,\n",
       "       3, 3, 3, 3, 1, 3, 0, 3, 1, 1, 0, 3, 3, 1, 3, 3, 0, 1, 1, 1, 3, 4,\n",
       "       1, 1, 3, 4, 4, 4, 6, 6, 6, 4, 1, 6, 3, 4, 1, 1, 3, 1, 4, 4, 1, 4,\n",
       "       3, 6, 5, 1, 1, 3, 0, 4, 1, 4, 0, 3, 4, 1, 1, 1, 1, 0, 4, 0, 0, 4,\n",
       "       0, 0, 3, 0, 0, 1, 3, 1, 3, 1, 3, 4, 3, 0, 6, 3, 0, 1, 4, 4, 0, 0,\n",
       "       1, 4, 4, 0, 1, 0, 1, 1, 1, 5, 3, 6, 4, 4, 4, 1, 1, 1, 3, 1, 1, 0,\n",
       "       4, 4, 1, 3, 1, 4, 4, 1, 0, 1, 1, 1, 1, 0, 6, 1, 0, 1, 3, 0, 0, 4,\n",
       "       4, 3, 0, 1, 3, 1, 0, 3, 1, 0, 4, 4, 0, 4, 3, 1, 1, 4, 0, 4, 0, 0,\n",
       "       0, 1, 0, 0, 3, 0, 4, 3, 0, 4, 0, 0, 4, 1, 0, 0, 3, 0, 0, 0, 1, 4,\n",
       "       1, 4, 0, 4, 4, 3, 1, 0, 0, 0, 0, 4, 1, 4, 0, 0, 0, 0, 0, 5, 2, 2,\n",
       "       2, 2, 2, 2, 3, 2, 2, 6, 2, 3, 2, 3, 3, 3, 0, 1, 3, 0, 3, 0, 6, 3,\n",
       "       0, 3, 0, 3, 3, 0, 0, 1, 3, 0, 0, 3, 3, 3, 6, 4, 3, 0, 3, 1, 0, 3,\n",
       "       3, 4, 3, 1, 1, 1, 5, 3, 0, 3, 0, 0, 4, 4, 3, 3, 3, 0, 3, 1, 3, 0,\n",
       "       3, 4, 1, 3, 1, 3, 0, 3, 3, 1, 6, 3, 3, 0, 5, 4, 0, 0, 4, 1, 0, 0,\n",
       "       4, 1, 6, 4, 0, 4, 0, 0, 4, 0, 6, 0, 6, 0, 4, 6, 0, 0, 4, 0, 1, 6,\n",
       "       5, 6, 0, 6, 6, 0, 6, 0, 1, 1, 6, 0, 1, 1, 0, 4, 0, 1, 0, 4, 6, 1,\n",
       "       6, 0, 1, 0, 0, 0, 1, 6, 0, 0, 1, 4, 6, 0, 1, 0, 0, 0, 0, 0, 0, 4,\n",
       "       0, 1, 0, 5, 0, 0, 4, 0, 5, 4, 4, 0, 4, 1], dtype=int32)"
      ]
     },
     "execution_count": 25,
     "metadata": {},
     "output_type": "execute_result"
    }
   ],
   "source": []
  },
  {
   "cell_type": "code",
   "execution_count": 26,
   "metadata": {},
   "outputs": [
    {
     "data": {
      "text/plain": [
       "0    158\n",
       "1    154\n",
       "4    131\n",
       "2    112\n",
       "3    108\n",
       "6     63\n",
       "5     14\n",
       "Name: cluster, dtype: int64"
      ]
     },
     "execution_count": 26,
     "metadata": {},
     "output_type": "execute_result"
    }
   ],
   "source": [
    "# Add the clusters to the initial dataframe\n"
   ]
  },
  {
   "cell_type": "code",
   "execution_count": 27,
   "metadata": {},
   "outputs": [
    {
     "data": {
      "text/html": [
       "<div>\n",
       "<style scoped>\n",
       "    .dataframe tbody tr th:only-of-type {\n",
       "        vertical-align: middle;\n",
       "    }\n",
       "\n",
       "    .dataframe tbody tr th {\n",
       "        vertical-align: top;\n",
       "    }\n",
       "\n",
       "    .dataframe thead th {\n",
       "        text-align: right;\n",
       "    }\n",
       "</style>\n",
       "<table border=\"1\" class=\"dataframe\">\n",
       "  <thead>\n",
       "    <tr style=\"text-align: right;\">\n",
       "      <th></th>\n",
       "      <th>Reason for absence</th>\n",
       "      <th>Month of absence</th>\n",
       "      <th>Day of the week</th>\n",
       "      <th>Seasons</th>\n",
       "      <th>Transportation expense</th>\n",
       "      <th>Distance from Residence to Work</th>\n",
       "      <th>Service time</th>\n",
       "      <th>Age</th>\n",
       "      <th>Work load Average/day</th>\n",
       "      <th>Hit target</th>\n",
       "      <th>...</th>\n",
       "      <th>Education</th>\n",
       "      <th>Son</th>\n",
       "      <th>Social drinker</th>\n",
       "      <th>Social smoker</th>\n",
       "      <th>Pet</th>\n",
       "      <th>Weight</th>\n",
       "      <th>Height</th>\n",
       "      <th>Body mass index</th>\n",
       "      <th>Absenteeism time in hours</th>\n",
       "      <th>cluster</th>\n",
       "    </tr>\n",
       "  </thead>\n",
       "  <tbody>\n",
       "    <tr>\n",
       "      <th>735</th>\n",
       "      <td>14</td>\n",
       "      <td>7</td>\n",
       "      <td>3</td>\n",
       "      <td>1</td>\n",
       "      <td>289</td>\n",
       "      <td>36</td>\n",
       "      <td>13</td>\n",
       "      <td>33</td>\n",
       "      <td>264.604</td>\n",
       "      <td>93</td>\n",
       "      <td>...</td>\n",
       "      <td>1</td>\n",
       "      <td>2</td>\n",
       "      <td>1</td>\n",
       "      <td>0</td>\n",
       "      <td>1</td>\n",
       "      <td>90</td>\n",
       "      <td>172</td>\n",
       "      <td>30</td>\n",
       "      <td>8</td>\n",
       "      <td>4</td>\n",
       "    </tr>\n",
       "    <tr>\n",
       "      <th>736</th>\n",
       "      <td>11</td>\n",
       "      <td>7</td>\n",
       "      <td>3</td>\n",
       "      <td>1</td>\n",
       "      <td>235</td>\n",
       "      <td>11</td>\n",
       "      <td>14</td>\n",
       "      <td>37</td>\n",
       "      <td>264.604</td>\n",
       "      <td>93</td>\n",
       "      <td>...</td>\n",
       "      <td>3</td>\n",
       "      <td>1</td>\n",
       "      <td>0</td>\n",
       "      <td>0</td>\n",
       "      <td>1</td>\n",
       "      <td>88</td>\n",
       "      <td>172</td>\n",
       "      <td>29</td>\n",
       "      <td>4</td>\n",
       "      <td>4</td>\n",
       "    </tr>\n",
       "    <tr>\n",
       "      <th>737</th>\n",
       "      <td>0</td>\n",
       "      <td>0</td>\n",
       "      <td>3</td>\n",
       "      <td>1</td>\n",
       "      <td>118</td>\n",
       "      <td>14</td>\n",
       "      <td>13</td>\n",
       "      <td>40</td>\n",
       "      <td>271.219</td>\n",
       "      <td>95</td>\n",
       "      <td>...</td>\n",
       "      <td>1</td>\n",
       "      <td>1</td>\n",
       "      <td>1</td>\n",
       "      <td>0</td>\n",
       "      <td>8</td>\n",
       "      <td>98</td>\n",
       "      <td>170</td>\n",
       "      <td>34</td>\n",
       "      <td>0</td>\n",
       "      <td>0</td>\n",
       "    </tr>\n",
       "    <tr>\n",
       "      <th>738</th>\n",
       "      <td>0</td>\n",
       "      <td>0</td>\n",
       "      <td>4</td>\n",
       "      <td>2</td>\n",
       "      <td>231</td>\n",
       "      <td>35</td>\n",
       "      <td>14</td>\n",
       "      <td>39</td>\n",
       "      <td>271.219</td>\n",
       "      <td>95</td>\n",
       "      <td>...</td>\n",
       "      <td>1</td>\n",
       "      <td>2</td>\n",
       "      <td>1</td>\n",
       "      <td>0</td>\n",
       "      <td>2</td>\n",
       "      <td>100</td>\n",
       "      <td>170</td>\n",
       "      <td>35</td>\n",
       "      <td>0</td>\n",
       "      <td>4</td>\n",
       "    </tr>\n",
       "    <tr>\n",
       "      <th>739</th>\n",
       "      <td>0</td>\n",
       "      <td>0</td>\n",
       "      <td>6</td>\n",
       "      <td>3</td>\n",
       "      <td>179</td>\n",
       "      <td>45</td>\n",
       "      <td>14</td>\n",
       "      <td>53</td>\n",
       "      <td>271.219</td>\n",
       "      <td>95</td>\n",
       "      <td>...</td>\n",
       "      <td>1</td>\n",
       "      <td>1</td>\n",
       "      <td>0</td>\n",
       "      <td>0</td>\n",
       "      <td>1</td>\n",
       "      <td>77</td>\n",
       "      <td>175</td>\n",
       "      <td>25</td>\n",
       "      <td>0</td>\n",
       "      <td>1</td>\n",
       "    </tr>\n",
       "  </tbody>\n",
       "</table>\n",
       "<p>5 rows × 21 columns</p>\n",
       "</div>"
      ],
      "text/plain": [
       "     Reason for absence  Month of absence  Day of the week  Seasons  \\\n",
       "735                  14                 7                3        1   \n",
       "736                  11                 7                3        1   \n",
       "737                   0                 0                3        1   \n",
       "738                   0                 0                4        2   \n",
       "739                   0                 0                6        3   \n",
       "\n",
       "     Transportation expense  Distance from Residence to Work  Service time  \\\n",
       "735                     289                               36            13   \n",
       "736                     235                               11            14   \n",
       "737                     118                               14            13   \n",
       "738                     231                               35            14   \n",
       "739                     179                               45            14   \n",
       "\n",
       "     Age  Work load Average/day   Hit target  ...  Education  Son  \\\n",
       "735   33                 264.604          93  ...          1    2   \n",
       "736   37                 264.604          93  ...          3    1   \n",
       "737   40                 271.219          95  ...          1    1   \n",
       "738   39                 271.219          95  ...          1    2   \n",
       "739   53                 271.219          95  ...          1    1   \n",
       "\n",
       "     Social drinker  Social smoker  Pet  Weight  Height  Body mass index  \\\n",
       "735               1              0    1      90     172               30   \n",
       "736               0              0    1      88     172               29   \n",
       "737               1              0    8      98     170               34   \n",
       "738               1              0    2     100     170               35   \n",
       "739               0              0    1      77     175               25   \n",
       "\n",
       "     Absenteeism time in hours  cluster  \n",
       "735                          8        4  \n",
       "736                          4        4  \n",
       "737                          0        0  \n",
       "738                          0        4  \n",
       "739                          0        1  \n",
       "\n",
       "[5 rows x 21 columns]"
      ]
     },
     "execution_count": 27,
     "metadata": {},
     "output_type": "execute_result"
    }
   ],
   "source": [
    "# Check the tail of the dataframe\n"
   ]
  },
  {
   "cell_type": "code",
   "execution_count": 28,
   "metadata": {},
   "outputs": [],
   "source": [
    "# Select the clusters in cluster 0 and save them as a csv\n"
   ]
  },
  {
   "cell_type": "code",
   "execution_count": 29,
   "metadata": {},
   "outputs": [
    {
     "data": {
      "text/html": [
       "<div>\n",
       "<style scoped>\n",
       "    .dataframe tbody tr th:only-of-type {\n",
       "        vertical-align: middle;\n",
       "    }\n",
       "\n",
       "    .dataframe tbody tr th {\n",
       "        vertical-align: top;\n",
       "    }\n",
       "\n",
       "    .dataframe thead th {\n",
       "        text-align: right;\n",
       "    }\n",
       "</style>\n",
       "<table border=\"1\" class=\"dataframe\">\n",
       "  <thead>\n",
       "    <tr style=\"text-align: right;\">\n",
       "      <th></th>\n",
       "      <th>Reason for absence</th>\n",
       "      <th>Month of absence</th>\n",
       "      <th>Day of the week</th>\n",
       "      <th>Seasons</th>\n",
       "      <th>Transportation expense</th>\n",
       "      <th>Distance from Residence to Work</th>\n",
       "      <th>Service time</th>\n",
       "      <th>Age</th>\n",
       "      <th>Work load Average/day</th>\n",
       "      <th>Hit target</th>\n",
       "      <th>...</th>\n",
       "      <th>Education</th>\n",
       "      <th>Son</th>\n",
       "      <th>Social drinker</th>\n",
       "      <th>Social smoker</th>\n",
       "      <th>Pet</th>\n",
       "      <th>Weight</th>\n",
       "      <th>Height</th>\n",
       "      <th>Body mass index</th>\n",
       "      <th>Absenteeism time in hours</th>\n",
       "      <th>cluster</th>\n",
       "    </tr>\n",
       "  </thead>\n",
       "  <tbody>\n",
       "    <tr>\n",
       "      <th>18</th>\n",
       "      <td>11</td>\n",
       "      <td>7</td>\n",
       "      <td>5</td>\n",
       "      <td>1</td>\n",
       "      <td>189</td>\n",
       "      <td>29</td>\n",
       "      <td>13</td>\n",
       "      <td>33</td>\n",
       "      <td>239.554</td>\n",
       "      <td>97</td>\n",
       "      <td>...</td>\n",
       "      <td>1</td>\n",
       "      <td>2</td>\n",
       "      <td>0</td>\n",
       "      <td>0</td>\n",
       "      <td>2</td>\n",
       "      <td>69</td>\n",
       "      <td>167</td>\n",
       "      <td>25</td>\n",
       "      <td>8</td>\n",
       "      <td>0</td>\n",
       "    </tr>\n",
       "    <tr>\n",
       "      <th>27</th>\n",
       "      <td>28</td>\n",
       "      <td>8</td>\n",
       "      <td>4</td>\n",
       "      <td>1</td>\n",
       "      <td>157</td>\n",
       "      <td>27</td>\n",
       "      <td>6</td>\n",
       "      <td>29</td>\n",
       "      <td>205.917</td>\n",
       "      <td>92</td>\n",
       "      <td>...</td>\n",
       "      <td>1</td>\n",
       "      <td>0</td>\n",
       "      <td>1</td>\n",
       "      <td>1</td>\n",
       "      <td>0</td>\n",
       "      <td>75</td>\n",
       "      <td>185</td>\n",
       "      <td>22</td>\n",
       "      <td>4</td>\n",
       "      <td>0</td>\n",
       "    </tr>\n",
       "    <tr>\n",
       "      <th>40</th>\n",
       "      <td>23</td>\n",
       "      <td>9</td>\n",
       "      <td>3</td>\n",
       "      <td>1</td>\n",
       "      <td>184</td>\n",
       "      <td>42</td>\n",
       "      <td>7</td>\n",
       "      <td>27</td>\n",
       "      <td>241.476</td>\n",
       "      <td>92</td>\n",
       "      <td>...</td>\n",
       "      <td>1</td>\n",
       "      <td>0</td>\n",
       "      <td>0</td>\n",
       "      <td>0</td>\n",
       "      <td>0</td>\n",
       "      <td>58</td>\n",
       "      <td>167</td>\n",
       "      <td>21</td>\n",
       "      <td>2</td>\n",
       "      <td>0</td>\n",
       "    </tr>\n",
       "    <tr>\n",
       "      <th>41</th>\n",
       "      <td>23</td>\n",
       "      <td>9</td>\n",
       "      <td>2</td>\n",
       "      <td>1</td>\n",
       "      <td>118</td>\n",
       "      <td>10</td>\n",
       "      <td>10</td>\n",
       "      <td>37</td>\n",
       "      <td>241.476</td>\n",
       "      <td>92</td>\n",
       "      <td>...</td>\n",
       "      <td>1</td>\n",
       "      <td>0</td>\n",
       "      <td>0</td>\n",
       "      <td>0</td>\n",
       "      <td>0</td>\n",
       "      <td>83</td>\n",
       "      <td>172</td>\n",
       "      <td>28</td>\n",
       "      <td>4</td>\n",
       "      <td>0</td>\n",
       "    </tr>\n",
       "    <tr>\n",
       "      <th>45</th>\n",
       "      <td>23</td>\n",
       "      <td>9</td>\n",
       "      <td>2</td>\n",
       "      <td>1</td>\n",
       "      <td>118</td>\n",
       "      <td>10</td>\n",
       "      <td>10</td>\n",
       "      <td>37</td>\n",
       "      <td>241.476</td>\n",
       "      <td>92</td>\n",
       "      <td>...</td>\n",
       "      <td>1</td>\n",
       "      <td>0</td>\n",
       "      <td>0</td>\n",
       "      <td>0</td>\n",
       "      <td>0</td>\n",
       "      <td>83</td>\n",
       "      <td>172</td>\n",
       "      <td>28</td>\n",
       "      <td>3</td>\n",
       "      <td>0</td>\n",
       "    </tr>\n",
       "  </tbody>\n",
       "</table>\n",
       "<p>5 rows × 21 columns</p>\n",
       "</div>"
      ],
      "text/plain": [
       "    Reason for absence  Month of absence  Day of the week  Seasons  \\\n",
       "18                  11                 7                5        1   \n",
       "27                  28                 8                4        1   \n",
       "40                  23                 9                3        1   \n",
       "41                  23                 9                2        1   \n",
       "45                  23                 9                2        1   \n",
       "\n",
       "    Transportation expense  Distance from Residence to Work  Service time  \\\n",
       "18                     189                               29            13   \n",
       "27                     157                               27             6   \n",
       "40                     184                               42             7   \n",
       "41                     118                               10            10   \n",
       "45                     118                               10            10   \n",
       "\n",
       "    Age  Work load Average/day   Hit target  ...  Education  Son  \\\n",
       "18   33                 239.554          97  ...          1    2   \n",
       "27   29                 205.917          92  ...          1    0   \n",
       "40   27                 241.476          92  ...          1    0   \n",
       "41   37                 241.476          92  ...          1    0   \n",
       "45   37                 241.476          92  ...          1    0   \n",
       "\n",
       "    Social drinker  Social smoker  Pet  Weight  Height  Body mass index  \\\n",
       "18               0              0    2      69     167               25   \n",
       "27               1              1    0      75     185               22   \n",
       "40               0              0    0      58     167               21   \n",
       "41               0              0    0      83     172               28   \n",
       "45               0              0    0      83     172               28   \n",
       "\n",
       "    Absenteeism time in hours  cluster  \n",
       "18                          8        0  \n",
       "27                          4        0  \n",
       "40                          2        0  \n",
       "41                          4        0  \n",
       "45                          3        0  \n",
       "\n",
       "[5 rows x 21 columns]"
      ]
     },
     "execution_count": 29,
     "metadata": {},
     "output_type": "execute_result"
    }
   ],
   "source": [
    "# PPrint the head of cluster zero\n"
   ]
  },
  {
   "cell_type": "code",
   "execution_count": 30,
   "metadata": {},
   "outputs": [
    {
     "data": {
      "text/plain": [
       "<matplotlib.axes._subplots.AxesSubplot at 0x7fb9f8793b90>"
      ]
     },
     "execution_count": 30,
     "metadata": {},
     "output_type": "execute_result"
    },
    {
     "data": {
      "image/png": "[encoded data removed]",
      "text/plain": [
       "<Figure size 864x432 with 1 Axes>"
      ]
     },
     "metadata": {
      "needs_background": "light"
     },
     "output_type": "display_data"
    }
   ],
   "source": [
    "# Plot a countplot of the clusters with Pet as the Hue\n"
   ]
  },
  {
   "cell_type": "code",
   "execution_count": 31,
   "metadata": {},
   "outputs": [
    {
     "data": {
      "text/plain": [
       "<matplotlib.axes._subplots.AxesSubplot at 0x7fb9f85f4050>"
      ]
     },
     "execution_count": 31,
     "metadata": {},
     "output_type": "execute_result"
    },
    {
     "data": {
      "image/png": "[encoded data removed]",
      "text/plain": [
       "<Figure size 864x432 with 1 Axes>"
      ]
     },
     "metadata": {
      "needs_background": "light"
     },
     "output_type": "display_data"
    }
   ],
   "source": [
    "# Plot a scatter plot of the Work load Average/day and the Transportation expense\n",
    "# with Hue as the cluster\n"
   ]
  },
  {
   "cell_type": "markdown",
   "metadata": {},
   "source": [
    "Happy Clustering!"
   ]
  },
  {
   "cell_type": "markdown",
   "metadata": {},
   "source": [
    "# "
   ]
  }
 ],
 "metadata": {
  "kernelspec": {
   "display_name": "Python 3",
   "language": "python",
   "name": "python3"
  },
  "language_info": {
   "codemirror_mode": {
    "name": "ipython",
    "version": 3
   },
   "file_extension": ".py",
   "mimetype": "text/x-python",
   "name": "python",
   "nbconvert_exporter": "python",
   "pygments_lexer": "ipython3",
   "version": "3.7.6"
  }
 },
 "nbformat": 4,
 "nbformat_minor": 4
}
